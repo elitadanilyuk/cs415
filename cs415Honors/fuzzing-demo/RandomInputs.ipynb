{
 "cells": [
  {
   "attachments": {},
   "cell_type": "markdown",
   "metadata": {},
   "source": [
    "# Generating Random Inputs for Fuzzing\n",
    "\n",
    "- First, install the fuzzingbook:\n",
    "    - `pip3 install fuzzingbook`\n",
    "- Next, open the python interpreter:\n",
    "    - `python3`\n",
    "- Then, import the fuzzer:\n",
    "    - `from fuzzingbook.Fuzzer import fuzzer`\n",
    "- Then, simply run the fuzzer method to generate random inputs:\n",
    "    - `fuzzer()`\n",
    "    - Can easily produce 100's of thousands inputs per second\n",
    "    \n",
    "<img width=50% src=\"RandomFuzzer.png\"/>\n",
    "\n",
    "From here you can input these values into a unix program of your choice.\n"
   ]
  }
 ],
 "metadata": {
  "kernelspec": {
   "display_name": "Python 3",
   "language": "python",
   "name": "python3"
  },
  "language_info": {
   "name": "python",
   "version": "3.9.6"
  },
  "orig_nbformat": 4
 },
 "nbformat": 4,
 "nbformat_minor": 2
}
