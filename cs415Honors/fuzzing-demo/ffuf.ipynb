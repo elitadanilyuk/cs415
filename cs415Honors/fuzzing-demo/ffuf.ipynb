{
 "cells": [
  {
   "attachments": {},
   "cell_type": "markdown",
   "metadata": {},
   "source": [
    "# SecLists & ffuf (Fuzz Faster U Fool)\n",
    "\n",
    "SecLists is a collection of multiple types of lists used during security assessments. List types include usernames, passwords, URLs, sensitive data grep strings, fuzzing payloads, and many more. With the goal to enable security testers to pull the repo onto a new testing box and have access to every type of list that may be needed.\n",
    "\n",
    "Fuzzing tool, often used for web application pen testing. Giving it a URL with word FUZZ will brute force all the combinations. Interestingly, it was written in GO.\n",
    "\n",
    "Often combined with word lists. These, can be open source or you can create your own. A common tool used with ffuf is SecLists.\n",
    "SecLists and ffuf are automatically included in the following Linux distributions:\n",
    "- BlackArch\n",
    "- Pentoo\n",
    "- Kali\n",
    "- Parrot\n",
    "- You can also search [Repology](https://repology.org/project/ffuf/versions) for other distributions"
   ]
  },
  {
   "attachments": {},
   "cell_type": "markdown",
   "metadata": {},
   "source": [
    "## Installation\n",
    "\n",
    "Otherwise you can install them with the following commands (Linux):\n",
    "\n",
    "- SecLists: `sudo apt install seclists`\n",
    "- ffuf: `sudo apt install ffuf`"
   ]
  },
  {
   "attachments": {},
   "cell_type": "markdown",
   "metadata": {},
   "source": [
    "### ffuf\n",
    "\n",
    "- very popular in the bug-bounty community\n",
    "- ffuf uses wordlists and an endpoint (typically URLs)\n",
    "- goes through all combinations of the inputs in the wordlist\n",
    "- outputs JSON/CSV data which can then be used in other tools for further testing/analysis\n",
    "    - difficulty with complex brute forcing (i.e. parameters), but possible\n",
    "- faster than burp and free\n",
    "\n",
    "`ffuf -h` or `ffuf man` will give further information about optional flags\n"
   ]
  },
  {
   "attachments": {},
   "cell_type": "markdown",
   "metadata": {},
   "source": [
    "### SecLists\n",
    "\n",
    "To find the SecLists installed you can run:\n",
    "\n",
    "`locate SecLists`"
   ]
  },
  {
   "attachments": {},
   "cell_type": "markdown",
   "metadata": {},
   "source": [
    "## ffuf Command Breakdown\n",
    "\n",
    "`ffuf -w <PATH/wordlist.txt> -u <TARGET/URL>/FUZZ -o <output.txt>`\n",
    "\n",
    "- can add a replay for valid URLS and put them into burp or other tools by adding the `-replay-proxy` flag and piping it into your desired tool\n",
    "- can add a flag to filter through any status(es) you are interested in by making them comma separated\n",
    "    - i.e. `-mc 200,301`\n",
    "- can add more extensions to your wordlist to discover hidden files; these added extensions are added to the words in the wordlist\n",
    "    - i.e. `ffuf -w <PATH/wordlist.txt> -u <TARGET/URL>/FUZZ -e .php,.zip,.txt`\n",
    "        - `-e` adds the following arguments as extensions\n",
    "        - for example, if your wordlist contains 'admin' and you add the .php extension then both `.../admin` and `.../admin.php` will be checked\n",
    "- the fuzz command automatically does GET requests, but you can also fuzz with POST requests, which means you can fuzz for hidden parameters (injection)\n",
    "    - i.e. `ffuf -w <PATH/wordlist.txt> -u <TARGET/URL>/FUZZ -X POST -d \"search=FUZZ\"`\n",
    "        - `-X` sets the request type\n",
    "        - `-d` is the POST data\n",
    "\n"
   ]
  }
 ],
 "metadata": {
  "kernelspec": {
   "display_name": "Python 3",
   "language": "python",
   "name": "python3"
  },
  "language_info": {
   "name": "python",
   "version": "3.9.6"
  },
  "orig_nbformat": 4
 },
 "nbformat": 4,
 "nbformat_minor": 2
}
